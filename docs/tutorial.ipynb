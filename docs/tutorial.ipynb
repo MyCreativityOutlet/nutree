{
 "cells": [
  {
   "cell_type": "markdown",
   "metadata": {},
   "source": [
    "# Nutree Tutorial"
   ]
  },
  {
   "attachments": {},
   "cell_type": "markdown",
   "metadata": {},
   "source": [
    "Start by creating an instance of the `Tree` class:"
   ]
  },
  {
   "cell_type": "code",
   "execution_count": 2,
   "metadata": {},
   "outputs": [
    {
     "name": "stdout",
     "output_type": "stream",
     "text": [
      "Tree<'Demo'>\n",
      "╰── 'A'\n",
      "    ├── 'a'\n",
      "    ╰── 'b'\n"
     ]
    }
   ],
   "source": [
    "from nutree import Tree\n",
    "\n",
    "tree = Tree(\"Demo\")\n",
    "\n",
    "node_a = tree.add(\"A\")\n",
    "node_a.add(\"a\")\n",
    "node_a.add(\"b\")\n",
    "tree.print()\n"
   ]
  },
  {
   "cell_type": "code",
   "execution_count": 3,
   "metadata": {},
   "outputs": [
    {
     "data": {
      "text/plain": [
       "[{'data': 'A', 'children': [{'data': 'a'}, {'data': 'b'}]}]"
      ]
     },
     "execution_count": 3,
     "metadata": {},
     "output_type": "execute_result"
    }
   ],
   "source": [
    "tree.to_dict()\n"
   ]
  },
  {
   "cell_type": "code",
   "execution_count": 4,
   "metadata": {},
   "outputs": [
    {
     "data": {
      "text/plain": [
       "[(0, 'A'), (1, 'a'), (1, 'b')]"
      ]
     },
     "execution_count": 4,
     "metadata": {},
     "output_type": "execute_result"
    }
   ],
   "source": [
    "list(tree.to_list_iter())\n"
   ]
  },
  {
   "cell_type": "code",
   "execution_count": 5,
   "metadata": {},
   "outputs": [
    {
     "name": "stdout",
     "output_type": "stream",
     "text": [
      "Node<'A', data_id=-6155505832273219541>\n",
      "├── Node<'a', data_id=1939327296338879458>\n",
      "╰── Node<'b', data_id=6853019497100189332>\n"
     ]
    }
   ],
   "source": [
    "print(tree.format(repr=\"{node}\", title=False))\n"
   ]
  },
  {
   "cell_type": "code",
   "execution_count": 7,
   "metadata": {},
   "outputs": [
    {
     "name": "stdout",
     "output_type": "stream",
     "text": [
      "Tree<'4407606288'>\n",
      "╰── 'A'\n"
     ]
    }
   ],
   "source": [
    "t = Tree._from_list([(0, \"A\")])\n",
    "print(t.format())\n"
   ]
  },
  {
   "cell_type": "code",
   "execution_count": null,
   "metadata": {},
   "outputs": [],
   "source": []
  }
 ],
 "metadata": {
  "interpreter": {
   "hash": "f600cddd0c1baa98c0960b46a2f454b2dd6263de5ae4ff509241484089717206"
  },
  "kernelspec": {
   "display_name": "Python 3.9.1 64-bit ('nutree-usdBtVUd': pipenv)",
   "language": "python",
   "name": "python3"
  },
  "language_info": {
   "codemirror_mode": {
    "name": "ipython",
    "version": 3
   },
   "file_extension": ".py",
   "mimetype": "text/x-python",
   "name": "python",
   "nbconvert_exporter": "python",
   "pygments_lexer": "ipython3",
   "version": "3.11.1"
  },
  "orig_nbformat": 4
 },
 "nbformat": 4,
 "nbformat_minor": 2
}
